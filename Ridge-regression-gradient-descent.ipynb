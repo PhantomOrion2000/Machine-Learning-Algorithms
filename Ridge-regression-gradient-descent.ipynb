{
 "cells": [
  {
   "cell_type": "code",
   "execution_count": 50,
   "id": "3df24f7f",
   "metadata": {},
   "outputs": [],
   "source": [
    "from sklearn.datasets import load_diabetes\n",
    "from sklearn.linear_model import Ridge, SGDRegressor\n",
    "import numpy as np\n",
    "from sklearn.metrics import r2_score"
   ]
  },
  {
   "cell_type": "code",
   "execution_count": 51,
   "id": "5dbed983",
   "metadata": {},
   "outputs": [],
   "source": [
    "X, y = load_diabetes(return_X_y = True)"
   ]
  },
  {
   "cell_type": "code",
   "execution_count": 52,
   "id": "f36ca576",
   "metadata": {},
   "outputs": [],
   "source": [
    "from sklearn.model_selection import train_test_split\n",
    "X_train,X_test,y_train,y_test = train_test_split(X,y,test_size=0.2,random_state=4)"
   ]
  },
  {
   "cell_type": "code",
   "execution_count": 57,
   "id": "96700f50",
   "metadata": {},
   "outputs": [],
   "source": [
    "gred = SGDRegressor(penalty = 'l2', max_iter = 500, eta0 = 0.01, learning_rate = 'constant', alpha = 0.001)"
   ]
  },
  {
   "cell_type": "code",
   "execution_count": 58,
   "id": "f3a3e270",
   "metadata": {},
   "outputs": [
    {
     "name": "stdout",
     "output_type": "stream",
     "text": [
      "R2 score 0.42265144716501657\n",
      "[  59.09402091  -71.41004385  283.66320517  214.46714991   30.64403328\n",
      "   -7.4300301  -152.00718048  140.48856513  262.01054159  117.51757673]\n",
      "[154.76685834]\n"
     ]
    }
   ],
   "source": [
    "gred.fit(X_train,y_train)\n",
    "\n",
    "y_pred = gred.predict(X_test)\n",
    "print(\"R2 score\",r2_score(y_test,y_pred))\n",
    "print(gred.coef_)\n",
    "print(gred.intercept_)"
   ]
  },
  {
   "cell_type": "code",
   "execution_count": 59,
   "id": "f37afbb9",
   "metadata": {},
   "outputs": [],
   "source": [
    "reg = Ridge(alpha = 0.001, solver = 'sparse_cg', max_iter = 500)"
   ]
  },
  {
   "cell_type": "code",
   "execution_count": 60,
   "id": "b08a5cc5",
   "metadata": {},
   "outputs": [
    {
     "name": "stdout",
     "output_type": "stream",
     "text": [
      "R2 score 0.46238922017853046\n",
      "[  34.62617431 -290.42643559  483.96594581  367.96559729 -852.21640465\n",
      "  498.74459944  183.78210203  276.57704126  757.34559544   36.95860457]\n",
      "151.10416921892957\n"
     ]
    }
   ],
   "source": [
    "reg.fit(X_train,y_train)\n",
    "\n",
    "y_pred = reg.predict(X_test)\n",
    "print(\"R2 score\",r2_score(y_test,y_pred))\n",
    "print(reg.coef_)\n",
    "print(reg.intercept_)"
   ]
  },
  {
   "cell_type": "code",
   "execution_count": 61,
   "id": "1ea64ef9",
   "metadata": {},
   "outputs": [],
   "source": [
    "class meraRidge:\n",
    "    \n",
    "    def __init__(self, epochs, learning_rate, alpha):\n",
    "        self.learning_rate = learning_rate\n",
    "        self.epochs = epochs\n",
    "        self.alpha = alpha\n",
    "        self.coef_ = None\n",
    "        self.intercept_ = None\n",
    "    \n",
    "    def fit(self, X_train, y_train):\n",
    "        self.coef_ = np.ones(X_train.shape[1])\n",
    "        self.intercept_ = 0\n",
    "        theta = np.insert(self.coef_, 0, self.intercept_)\n",
    "        \n",
    "        X_train = np.insert(X_train, 0, 1, axis = 1)\n",
    "        \n",
    "        for i in range(self.epochs):\n",
    "            \n",
    "            theta_der = np.dot(X_train.T, X_train).dot(theta) - np.dot(X_train.T,y_train) + self.alpha * theta\n",
    "            theta = theta - (self.learning_rate * theta_der)\n",
    "            \n",
    "        self.intercept_ = theta[0]\n",
    "        self.coef_ = theta[1:]\n",
    "        \n",
    "    def predict(self,X_test):\n",
    "        return np.dot(X_test, self.coef_) + self.intercept_"
   ]
  },
  {
   "cell_type": "code",
   "execution_count": 74,
   "id": "a419fd4e",
   "metadata": {},
   "outputs": [],
   "source": [
    "r = meraRidge(epochs = 500, learning_rate = 0.001, alpha = 0.005)"
   ]
  },
  {
   "cell_type": "code",
   "execution_count": 75,
   "id": "dc2452a7",
   "metadata": {},
   "outputs": [
    {
     "name": "stdout",
     "output_type": "stream",
     "text": [
      "R2 score 0.38986952617756043\n",
      "[  60.03576551  -37.12749543  235.96546769  182.37501612   44.07527468\n",
      "   15.63280117 -135.27713603  135.56161253  223.38803507  113.52834228]\n",
      "151.44090019472526\n"
     ]
    }
   ],
   "source": [
    "r.fit(X_train,y_train)\n",
    "\n",
    "y_pred = r.predict(X_test)\n",
    "print(\"R2 score\",r2_score(y_test,y_pred))\n",
    "print(r.coef_)\n",
    "print(r.intercept_)"
   ]
  },
  {
   "cell_type": "code",
   "execution_count": null,
   "id": "4035c2c8",
   "metadata": {},
   "outputs": [],
   "source": []
  }
 ],
 "metadata": {
  "kernelspec": {
   "display_name": "Python 3 (ipykernel)",
   "language": "python",
   "name": "python3"
  },
  "language_info": {
   "codemirror_mode": {
    "name": "ipython",
    "version": 3
   },
   "file_extension": ".py",
   "mimetype": "text/x-python",
   "name": "python",
   "nbconvert_exporter": "python",
   "pygments_lexer": "ipython3",
   "version": "3.9.13"
  }
 },
 "nbformat": 4,
 "nbformat_minor": 5
}
